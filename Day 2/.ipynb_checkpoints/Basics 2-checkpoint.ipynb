{
 "cells": [
  {
   "cell_type": "markdown",
   "metadata": {},
   "source": [
    "# Basics 2"
   ]
  },
  {
   "cell_type": "markdown",
   "metadata": {},
   "source": [
    "## Conditional structures"
   ]
  },
  {
   "cell_type": "code",
   "execution_count": null,
   "metadata": {},
   "outputs": [],
   "source": [
    "# Simple if statement\n",
    "\n",
    "x=int(input(\"Enter marks:\"))\n",
    "if x<40:\n",
    "    print('Fail')"
   ]
  },
  {
   "cell_type": "code",
   "execution_count": null,
   "metadata": {},
   "outputs": [],
   "source": [
    "# if-else \n",
    "x=int(input(\"Enter marks:\"))\n",
    "if x<40:\n",
    "    print('Fail')\n",
    "else:\n",
    "    print('Pass')"
   ]
  },
  {
   "cell_type": "code",
   "execution_count": null,
   "metadata": {},
   "outputs": [],
   "source": [
    "#else-if chain\n",
    "x=int(input(\"Enter marks:\"))\n",
    "if x>100 or x<0:\n",
    "    print('Invalid')\n",
    "elif x>=90:\n",
    "    print('Pass')\n",
    "    print('Grade A')\n",
    "elif x>=75:\n",
    "    print('Pass')\n",
    "    print('Grade B')\n",
    "elif x>=60:\n",
    "    print('Pass')\n",
    "    print('Grade C')\n",
    "elif x>=40:\n",
    "    print('Pass')\n",
    "    print('Grade D')\n",
    "else:\n",
    "    print('Fail')\n",
    "    print('Grade F')\n",
    "    \n",
    "print('Complete')\n",
    "    "
   ]
  },
  {
   "cell_type": "code",
   "execution_count": null,
   "metadata": {},
   "outputs": [],
   "source": [
    "#nested if\n",
    "x=float(input(\"Enter Marks:\"))\n",
    "if(x>=60):\n",
    "    if(x<70):\n",
    "        print(\"first class\")\n",
    "    else:\n",
    "        print(\"Distinction\")\n",
    "else:\n",
    "    print(\"NA\")"
   ]
  },
  {
   "cell_type": "code",
   "execution_count": null,
   "metadata": {},
   "outputs": [],
   "source": [
    "#Gross Pay Computation\n",
    "workedHours=float(input(\"Please enter no. of hours worked: \"))\n",
    "wageRate=float(input(\"Please enter wage per hour: \"))\n",
    "print(\"Gross Pay= Rs\",workedHours*wageRate)"
   ]
  },
  {
   "cell_type": "code",
   "execution_count": null,
   "metadata": {},
   "outputs": [],
   "source": [
    "#Celsius to Fahrenheit\n",
    "tempInC=float(input(\"Please enter temperature in Celsius: \"))\n",
    "tempInF=(tempInC*(9/5))+32\n",
    "print(\"Temperature in Fahrenheit= {0:0.2f} \".format(tempInF),end=\"F \\n\")"
   ]
  },
  {
   "cell_type": "markdown",
   "metadata": {},
   "source": [
    "## Looping structures\n",
    "- $while$ loop\n",
    "- $for$ loop"
   ]
  },
  {
   "cell_type": "code",
   "execution_count": null,
   "metadata": {},
   "outputs": [],
   "source": [
    "# While loop\n",
    "i=0\n",
    "while i<=5:\n",
    "    print('i =',i)\n",
    "    i+=1\n",
    "print('Example over')"
   ]
  },
  {
   "cell_type": "code",
   "execution_count": null,
   "metadata": {},
   "outputs": [],
   "source": [
    "# for loop\n",
    "for i in range(5):\n",
    "    print(i)"
   ]
  },
  {
   "cell_type": "code",
   "execution_count": null,
   "metadata": {},
   "outputs": [],
   "source": [
    "for i in range(10,0,-2):\n",
    "    print(i)"
   ]
  },
  {
   "cell_type": "code",
   "execution_count": null,
   "metadata": {},
   "outputs": [],
   "source": [
    "for i in 'hello':\n",
    "    print(i)"
   ]
  },
  {
   "cell_type": "code",
   "execution_count": null,
   "metadata": {},
   "outputs": [],
   "source": [
    "text='hello'"
   ]
  },
  {
   "cell_type": "code",
   "execution_count": null,
   "metadata": {},
   "outputs": [],
   "source": [
    "# Nested loops\n",
    "for i in range(3):\n",
    "    for j in range(4):\n",
    "        for k in range(2):\n",
    "            print('(',i,j,k,')',end=' ')"
   ]
  },
  {
   "cell_type": "code",
   "execution_count": null,
   "metadata": {},
   "outputs": [],
   "source": [
    "for i in range(10):\n",
    "    x=int(input(\"Enter a number: \"))\n",
    "    \n",
    "    if x%7==0:\n",
    "        break\n",
    "    \n",
    "    print(\"The number you have entered is:\",x)\n",
    "print(\"Game Over!\")"
   ]
  },
  {
   "cell_type": "code",
   "execution_count": null,
   "metadata": {},
   "outputs": [],
   "source": [
    "total=0\n",
    "for i in range(10):\n",
    "    x=int(input(\"Enter a positive number \"))\n",
    "    \n",
    "    if x<0:\n",
    "        print(\"Negative numbers not considered\")\n",
    "        continue\n",
    "    \n",
    "    total+=x;\n",
    "\n",
    "print(\"Total=\",total);"
   ]
  },
  {
   "cell_type": "markdown",
   "metadata": {},
   "source": [
    "### Assignment"
   ]
  },
  {
   "cell_type": "code",
   "execution_count": 3,
   "metadata": {},
   "outputs": [
    {
     "name": "stdout",
     "output_type": "stream",
     "text": [
      "Please enter a number97\n",
      "97 is a Prime number\n"
     ]
    }
   ],
   "source": [
    "#program to check if given number is prime\n",
    "import math\n",
    "inputNo=int(input(\"Please enter a number\"))\n",
    "flag= True\n",
    "if inputNo==1:\n",
    "    print(\"1 is not a Prime number \")\n",
    "else:\n",
    "    for i in range(2,int(math.sqrt(inputNo))+1):\n",
    "        if inputNo%i==0:\n",
    "            print(inputNo, \"is not a Prime number\")\n",
    "            flag = False\n",
    "            break\n",
    "    if flag:\n",
    "        print(inputNo, \"is a Prime number\")\n",
    "        "
   ]
  },
  {
   "cell_type": "code",
   "execution_count": null,
   "metadata": {},
   "outputs": [],
   "source": [
    "#program to check area of triangle with sides given\n",
    "import math\n",
    "sideA=float(input(\"Please enter 1st side length: \"))\n",
    "sideB=float(input(\"Please enter 2st side length: \"))\n",
    "sideC=float(input(\"Please enter 3rd side length: \"))\n",
    "if (sideA+sideB)>sideC and (sideB+sideC)>sideA and (sideA+sideC)>sideB:\n",
    "    s=(sideA+sideB+sideC)/2\n",
    "    area=math.sqrt(s*(s-sideA)*(s-sideB)*(s-sideC))\n",
    "    print(\"Area of triangle =\",area)\n",
    "else:\n",
    "    print(\"Triangle cannot be formed\")"
   ]
  },
  {
   "cell_type": "code",
   "execution_count": null,
   "metadata": {},
   "outputs": [],
   "source": [
    "#program to find factorial\n",
    "inputNo=int(input(\"Please enter a positive integer: \"))\n",
    "factorial=1\n",
    "if inputNo<0:\n",
    "    print(\"Factorial doesn't exist for negative numbers\")\n",
    "elif inputNo==0:\n",
    "    print(\"Factorial is 1\")\n",
    "else:\n",
    "    for i in range(1,inputNo+1):\n",
    "        factorial*=i\n",
    "    print(\"Factorial of\",inputNo,\"is\",factorial)"
   ]
  },
  {
   "cell_type": "code",
   "execution_count": 11,
   "metadata": {},
   "outputs": [
    {
     "name": "stdout",
     "output_type": "stream",
     "text": [
      "Please enter a positive integer:121\n",
      "121 is a palindrome\n"
     ]
    }
   ],
   "source": [
    "#program to check palindrome\n",
    "inputNo=int(input(\"Please enter a positive integer:\"))\n",
    "if(inputNo>0):\n",
    "    temp=inputNo\n",
    "    NumReverse=0\n",
    "    while inputNo>0:\n",
    "        dig=inputNo%10\n",
    "        NumReverse=(NumReverse*10)+dig\n",
    "        inputNo=inputNo//10\n",
    "    if NumReverse==temp:\n",
    "        print(temp,\"is a palindrome\")\n",
    "    else:\n",
    "        print(temp,\"is not a palindrome\")\n",
    "else:\n",
    "    print(\"Invalid input\")"
   ]
  },
  {
   "cell_type": "code",
   "execution_count": 14,
   "metadata": {},
   "outputs": [
    {
     "name": "stdout",
     "output_type": "stream",
     "text": [
      "Please input positive integer: 564\n",
      "Sum of digits= 15\n"
     ]
    }
   ],
   "source": [
    "#program to find sum of digits\n",
    "total=0\n",
    "inputNo=int(input(\"Please input positive integer: \"))\n",
    "if(inputNo>0):\n",
    "    while inputNo>0:\n",
    "        digit=inputNo%10\n",
    "        total+=digit\n",
    "        inputNo=inputNo//10\n",
    "    print(\"Sum of digits=\",total)\n",
    "else:\n",
    "    print(\"Invalid Input\")"
   ]
  },
  {
   "cell_type": "code",
   "execution_count": 5,
   "metadata": {},
   "outputs": [
    {
     "name": "stdout",
     "output_type": "stream",
     "text": [
      "Please enter a number: 100\n",
      "Prime numbers upto 100 are: 2 3 5 7 11 13 17 19 23 29 31 37 41 43 47 53 59 61 67 71 73 79 83 89 97 "
     ]
    }
   ],
   "source": [
    "#program to print prime numbers upto n\n",
    "inputNo=int(input(\"Please enter a number: \"))\n",
    "#flag= True\n",
    "if(inputNo==1):\n",
    "    print(\"No prime numbers\")\n",
    "else:\n",
    "    print(\"Prime numbers upto\",inputNo,\"are:\",end=' ')\n",
    "    for i in range(2,inputNo+1):\n",
    "        flag= True\n",
    "        #print(\"i=\",i)\n",
    "        #for j in range(2,i):\n",
    "        for j in range(2,int(math.sqrt(i))+1):\n",
    "            #print(\"j=\",j)\n",
    "            if i%j==0:\n",
    "                flag= False\n",
    "                break\n",
    "        if flag:\n",
    "            print(i,end=' ')"
   ]
  },
  {
   "cell_type": "code",
   "execution_count": 7,
   "metadata": {},
   "outputs": [
    {
     "name": "stdout",
     "output_type": "stream",
     "text": [
      "Please enter a positive non-zero integer: 10\n",
      "The Fibonacci series upto 10 terms : 0 1 1 2 3 5 8 13 21 34 "
     ]
    }
   ],
   "source": [
    "#program to print fibonacci series upto n digits\n",
    "inputNo=int(input(\"Please enter a positive non-zero integer: \"))\n",
    "i=0\n",
    "firstNo=0\n",
    "secondNo=1\n",
    "\n",
    "if inputNo<=0:\n",
    "    print(\"Wrong input\")\n",
    "#elif inputNo==1:\n",
    "#    print(\"The Fibonacci series = 1\")\n",
    "else:\n",
    "    print(\"The Fibonacci series upto\",inputNo,\"terms :\",end=' ')\n",
    "    print(firstNo,secondNo,end=' ')\n",
    "    while i<inputNo-2:\n",
    "        fibNo=firstNo+secondNo\n",
    "        print(fibNo,end=' ')\n",
    "        firstNo=secondNo\n",
    "        secondNo=fibNo\n",
    "        i+=1"
   ]
  },
  {
   "cell_type": "code",
   "execution_count": 8,
   "metadata": {},
   "outputs": [
    {
     "name": "stdout",
     "output_type": "stream",
     "text": [
      "Enter a number10\n",
      "0 1 1 2 3 5 8 13 21 34 "
     ]
    }
   ],
   "source": [
    "#fibonacci using for\n",
    "n=int(input('Enter a number'))\n",
    "if n<0:\n",
    "    print('Invalid number')\n",
    "else:\n",
    "    f0=0\n",
    "    f1=1\n",
    "    print(f0,f1,end=' ')\n",
    "    for i in range(2,n):\n",
    "        f2=f0+f1\n",
    "        print(f2,end=' ')\n",
    "        f0=f1\n",
    "        f1=f2"
   ]
  },
  {
   "cell_type": "code",
   "execution_count": null,
   "metadata": {},
   "outputs": [],
   "source": []
  }
 ],
 "metadata": {
  "kernelspec": {
   "display_name": "Python 3",
   "language": "python",
   "name": "python3"
  },
  "language_info": {
   "codemirror_mode": {
    "name": "ipython",
    "version": 3
   },
   "file_extension": ".py",
   "mimetype": "text/x-python",
   "name": "python",
   "nbconvert_exporter": "python",
   "pygments_lexer": "ipython3",
   "version": "3.7.0"
  }
 },
 "nbformat": 4,
 "nbformat_minor": 2
}
