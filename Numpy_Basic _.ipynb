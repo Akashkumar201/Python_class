{
 "cells": [
  {
   "cell_type": "code",
   "execution_count": 1,
   "id": "uniform-transparency",
   "metadata": {},
   "outputs": [],
   "source": [
    "import array"
   ]
  },
  {
   "cell_type": "code",
   "execution_count": 2,
   "id": "optional-favorite",
   "metadata": {},
   "outputs": [],
   "source": [
    "ls=list(range(10))"
   ]
  },
  {
   "cell_type": "code",
   "execution_count": 3,
   "id": "published-qualification",
   "metadata": {},
   "outputs": [
    {
     "data": {
      "text/plain": [
       "[0, 1, 2, 3, 4, 5, 6, 7, 8, 9]"
      ]
     },
     "execution_count": 3,
     "metadata": {},
     "output_type": "execute_result"
    }
   ],
   "source": [
    "ls"
   ]
  },
  {
   "cell_type": "code",
   "execution_count": 7,
   "id": "infinite-future",
   "metadata": {},
   "outputs": [],
   "source": [
    "var=array.array('i',ls) # in  indicate the integer here "
   ]
  },
  {
   "cell_type": "code",
   "execution_count": 6,
   "id": "mediterranean-locking",
   "metadata": {},
   "outputs": [
    {
     "data": {
      "text/plain": [
       "array('i', [0, 1, 2, 3, 4, 5, 6, 7, 8, 9])"
      ]
     },
     "execution_count": 6,
     "metadata": {},
     "output_type": "execute_result"
    }
   ],
   "source": [
    "var"
   ]
  },
  {
   "cell_type": "code",
   "execution_count": 8,
   "id": "unlike-explosion",
   "metadata": {},
   "outputs": [],
   "source": [
    "import numpy as np"
   ]
  },
  {
   "cell_type": "code",
   "execution_count": 17,
   "id": "developing-crash",
   "metadata": {
    "scrolled": true
   },
   "outputs": [
    {
     "data": {
      "text/plain": [
       "array([[1., 0., 0.],\n",
       "       [0., 1., 0.],\n",
       "       [0., 0., 1.]])"
      ]
     },
     "execution_count": 17,
     "metadata": {},
     "output_type": "execute_result"
    }
   ],
   "source": [
    "np.eye(3)"
   ]
  },
  {
   "cell_type": "code",
   "execution_count": null,
   "id": "involved-literature",
   "metadata": {},
   "outputs": [],
   "source": [
    "# np.empty(5)"
   ]
  },
  {
   "cell_type": "code",
   "execution_count": 32,
   "id": "painted-kidney",
   "metadata": {},
   "outputs": [],
   "source": [
    "#value will be whatever if already exit in memory \n",
    "#It's show the memory allocation"
   ]
  },
  {
   "cell_type": "markdown",
   "id": "coordinated-advertiser",
   "metadata": {},
   "source": [
    "### Data types of Numpy \n",
    "- boolen (true or false )\n",
    "- int \"$int32$ and $int64$\" , (\"int8\" , use in indxing )\n",
    "- float  \"$float32$\" and \"$float64$\"\n",
    "- complex $complex64$ and the \"$complex32$\" comes under the float\n"
   ]
  },
  {
   "cell_type": "code",
   "execution_count": 33,
   "id": "peaceful-abraham",
   "metadata": {},
   "outputs": [],
   "source": [
    "# seed "
   ]
  },
  {
   "cell_type": "code",
   "execution_count": 41,
   "id": "loving-fiber",
   "metadata": {},
   "outputs": [],
   "source": [
    "x=np.random.seed(10)"
   ]
  },
  {
   "cell_type": "code",
   "execution_count": 50,
   "id": "diverse-atlantic",
   "metadata": {},
   "outputs": [],
   "source": [
    "var1=np.random.randint(10,size=6)\n",
    "var2=np.random.randint(10,size=(4,5))\n",
    "var3=np.random.randint(10,size=(4,5,6))"
   ]
  },
  {
   "cell_type": "code",
   "execution_count": 58,
   "id": "attached-significance",
   "metadata": {},
   "outputs": [
    {
     "name": "stdout",
     "output_type": "stream",
     "text": [
      "the diminsion 1\n",
      "the shape of value (4, 5)\n",
      "the size is  120\n",
      "the dtype is  int32\n"
     ]
    }
   ],
   "source": [
    "print(\"the diminsion\",var1.ndim) \n",
    "print(\"the shape of value\",var2.shape)\n",
    "print(\"the size is \",var3.size)\n",
    "print(\"the dtype is \",var3.dtype)"
   ]
  },
  {
   "cell_type": "code",
   "execution_count": 59,
   "id": "invisible-premises",
   "metadata": {},
   "outputs": [
    {
     "data": {
      "text/plain": [
       "array([5, 8, 9, 9, 1, 5])"
      ]
     },
     "execution_count": 59,
     "metadata": {},
     "output_type": "execute_result"
    }
   ],
   "source": [
    "var1"
   ]
  },
  {
   "cell_type": "code",
   "execution_count": 60,
   "id": "widespread-cooking",
   "metadata": {},
   "outputs": [
    {
     "data": {
      "text/plain": [
       "5"
      ]
     },
     "execution_count": 60,
     "metadata": {},
     "output_type": "execute_result"
    }
   ],
   "source": [
    "#scrap the value from the array\n",
    "var1[-1]"
   ]
  },
  {
   "cell_type": "code",
   "execution_count": 61,
   "id": "coupled-detective",
   "metadata": {},
   "outputs": [
    {
     "data": {
      "text/plain": [
       "9"
      ]
     },
     "execution_count": 61,
     "metadata": {},
     "output_type": "execute_result"
    }
   ],
   "source": [
    "var2[0][0]"
   ]
  },
  {
   "cell_type": "code",
   "execution_count": 62,
   "id": "brutal-disaster",
   "metadata": {},
   "outputs": [
    {
     "data": {
      "text/plain": [
       "array([[9, 1, 4, 7, 7],\n",
       "       [7, 9, 7, 6, 0],\n",
       "       [3, 9, 4, 4, 6],\n",
       "       [8, 4, 9, 2, 1]])"
      ]
     },
     "execution_count": 62,
     "metadata": {},
     "output_type": "execute_result"
    }
   ],
   "source": [
    "var2"
   ]
  },
  {
   "cell_type": "code",
   "execution_count": 67,
   "id": "collected-range",
   "metadata": {},
   "outputs": [
    {
     "data": {
      "text/plain": [
       "8"
      ]
     },
     "execution_count": 67,
     "metadata": {},
     "output_type": "execute_result"
    }
   ],
   "source": [
    "#var2[3][0] # i am very happy \n",
    "#from second row strach 3,4 column\n",
    "var2[3,0]"
   ]
  },
  {
   "cell_type": "code",
   "execution_count": 65,
   "id": "requested-simple",
   "metadata": {},
   "outputs": [
    {
     "data": {
      "text/plain": [
       "6"
      ]
     },
     "execution_count": 65,
     "metadata": {},
     "output_type": "execute_result"
    }
   ],
   "source": [
    "var2[1,3] #this is called indexing"
   ]
  },
  {
   "cell_type": "code",
   "execution_count": 74,
   "id": "metallic-composer",
   "metadata": {},
   "outputs": [],
   "source": [
    "#slicing here [start: stop: step]"
   ]
  },
  {
   "cell_type": "code",
   "execution_count": 79,
   "id": "timely-boston",
   "metadata": {},
   "outputs": [
    {
     "data": {
      "text/plain": [
       "array([1])"
      ]
     },
     "execution_count": 79,
     "metadata": {},
     "output_type": "execute_result"
    }
   ],
   "source": [
    "var1[4:5]"
   ]
  },
  {
   "cell_type": "code",
   "execution_count": 83,
   "id": "composed-boating",
   "metadata": {},
   "outputs": [],
   "source": [
    "# indexing value [1,2,3,4,]\n",
    "                  #[0,1,2,3]\n",
    "#slicing [ value form A point to B point ]"
   ]
  },
  {
   "cell_type": "raw",
   "id": "attractive-henry",
   "metadata": {},
   "source": []
  },
  {
   "cell_type": "code",
   "execution_count": 84,
   "id": "musical-heather",
   "metadata": {},
   "outputs": [
    {
     "data": {
      "text/plain": [
       "array([[9, 1, 4, 7, 7],\n",
       "       [7, 9, 7, 6, 0],\n",
       "       [3, 9, 4, 4, 6],\n",
       "       [8, 4, 9, 2, 1]])"
      ]
     },
     "execution_count": 84,
     "metadata": {},
     "output_type": "execute_result"
    }
   ],
   "source": [
    "var2"
   ]
  },
  {
   "cell_type": "code",
   "execution_count": 94,
   "id": "nutritional-exposure",
   "metadata": {},
   "outputs": [
    {
     "data": {
      "text/plain": [
       "array([[4, 4]])"
      ]
     },
     "execution_count": 94,
     "metadata": {},
     "output_type": "execute_result"
    }
   ],
   "source": [
    "var2[2:3,2:4]"
   ]
  },
  {
   "cell_type": "code",
   "execution_count": 96,
   "id": "rubber-athletics",
   "metadata": {},
   "outputs": [
    {
     "data": {
      "text/plain": [
       "array([[9, 1],\n",
       "       [7, 9],\n",
       "       [3, 9]])"
      ]
     },
     "execution_count": 96,
     "metadata": {},
     "output_type": "execute_result"
    }
   ],
   "source": [
    "var2[:3,:2]"
   ]
  },
  {
   "cell_type": "code",
   "execution_count": 100,
   "id": "swedish-david",
   "metadata": {},
   "outputs": [
    {
     "data": {
      "text/plain": [
       "array([[9, 1, 4, 7, 7],\n",
       "       [7, 9, 7, 6, 0],\n",
       "       [3, 9, 4, 4, 6],\n",
       "       [8, 4, 9, 2, 1]])"
      ]
     },
     "execution_count": 100,
     "metadata": {},
     "output_type": "execute_result"
    }
   ],
   "source": [
    "var2"
   ]
  },
  {
   "cell_type": "code",
   "execution_count": 103,
   "id": "continued-entrance",
   "metadata": {},
   "outputs": [
    {
     "data": {
      "text/plain": [
       "array([[1, 2, 9, 4, 8],\n",
       "       [6, 4, 4, 9, 3],\n",
       "       [0, 6, 7, 9, 7],\n",
       "       [7, 7, 4, 1, 9]])"
      ]
     },
     "execution_count": 103,
     "metadata": {},
     "output_type": "execute_result"
    }
   ],
   "source": [
    "var2[::-1,::-1]"
   ]
  },
  {
   "cell_type": "code",
   "execution_count": 104,
   "id": "atomic-tractor",
   "metadata": {},
   "outputs": [],
   "source": [
    "#Reshaping the array"
   ]
  },
  {
   "cell_type": "code",
   "execution_count": 120,
   "id": "satellite-format",
   "metadata": {},
   "outputs": [],
   "source": [
    "var4=np.arange(1,10).reshape(3,3)"
   ]
  },
  {
   "cell_type": "markdown",
   "id": "worth-material",
   "metadata": {},
   "source": [
    "##### example reshape\n",
    "- you have called emp table here present only 1 row and you have 5 columns\n",
    "- you have and another data department table they 2 rows and 10 columns "
   ]
  },
  {
   "cell_type": "code",
   "execution_count": 121,
   "id": "illegal-montana",
   "metadata": {},
   "outputs": [
    {
     "data": {
      "text/plain": [
       "array([[1, 2, 3],\n",
       "       [4, 5, 6],\n",
       "       [7, 8, 9]])"
      ]
     },
     "execution_count": 121,
     "metadata": {},
     "output_type": "execute_result"
    }
   ],
   "source": [
    "var4"
   ]
  },
  {
   "cell_type": "code",
   "execution_count": 114,
   "id": "educated-irish",
   "metadata": {},
   "outputs": [
    {
     "data": {
      "text/plain": [
       "array([[1, 2, 3, 4, 5, 6, 7, 8, 9]])"
      ]
     },
     "execution_count": 114,
     "metadata": {},
     "output_type": "execute_result"
    }
   ],
   "source": [
    "var4"
   ]
  },
  {
   "cell_type": "code",
   "execution_count": 123,
   "id": "contemporary-person",
   "metadata": {},
   "outputs": [
    {
     "data": {
      "text/plain": [
       "array([1, 2, 3, 4, 5, 6])"
      ]
     },
     "execution_count": 123,
     "metadata": {},
     "output_type": "execute_result"
    }
   ],
   "source": [
    "var=np.array([1,2,3,4,5,6])\n",
    "var"
   ]
  },
  {
   "cell_type": "code",
   "execution_count": 124,
   "id": "compliant-tower",
   "metadata": {},
   "outputs": [
    {
     "data": {
      "text/plain": [
       "array([[1, 2, 3, 4, 5, 6]])"
      ]
     },
     "execution_count": 124,
     "metadata": {},
     "output_type": "execute_result"
    }
   ],
   "source": [
    "var.reshape(1,6)"
   ]
  },
  {
   "cell_type": "code",
   "execution_count": 125,
   "id": "golden-selection",
   "metadata": {},
   "outputs": [
    {
     "data": {
      "text/plain": [
       "array([[1],\n",
       "       [2],\n",
       "       [3],\n",
       "       [4],\n",
       "       [5],\n",
       "       [6]])"
      ]
     },
     "execution_count": 125,
     "metadata": {},
     "output_type": "execute_result"
    }
   ],
   "source": [
    "var.reshape(6,1)"
   ]
  },
  {
   "cell_type": "code",
   "execution_count": 130,
   "id": "frank-mozambique",
   "metadata": {},
   "outputs": [],
   "source": [
    "x=np.arange(1,5).reshape(2,2)"
   ]
  },
  {
   "cell_type": "code",
   "execution_count": 131,
   "id": "arctic-observer",
   "metadata": {},
   "outputs": [
    {
     "data": {
      "text/plain": [
       "array([[1, 2],\n",
       "       [3, 4]])"
      ]
     },
     "execution_count": 131,
     "metadata": {},
     "output_type": "execute_result"
    }
   ],
   "source": [
    "x"
   ]
  },
  {
   "cell_type": "code",
   "execution_count": 134,
   "id": "advance-reggae",
   "metadata": {},
   "outputs": [],
   "source": [
    "var5=np.arange(1,5)\n",
    "var6=np.arange(6,10)"
   ]
  },
  {
   "cell_type": "code",
   "execution_count": 135,
   "id": "enclosed-monday",
   "metadata": {},
   "outputs": [
    {
     "name": "stdout",
     "output_type": "stream",
     "text": [
      "[1 2 3 4]\n",
      "[6 7 8 9]\n"
     ]
    }
   ],
   "source": [
    "print(var5)\n",
    "print(var6)"
   ]
  },
  {
   "cell_type": "code",
   "execution_count": 136,
   "id": "august-snowboard",
   "metadata": {},
   "outputs": [],
   "source": [
    "var7=np.concatenate([var5,var6])"
   ]
  },
  {
   "cell_type": "code",
   "execution_count": 138,
   "id": "advanced-birthday",
   "metadata": {},
   "outputs": [],
   "source": [
    "var8=np.concatenate([var5,var6,var7])"
   ]
  },
  {
   "cell_type": "code",
   "execution_count": 139,
   "id": "victorian-crisis",
   "metadata": {},
   "outputs": [
    {
     "data": {
      "text/plain": [
       "array([1, 2, 3, 4, 6, 7, 8, 9, 1, 2, 3, 4, 6, 7, 8, 9])"
      ]
     },
     "execution_count": 139,
     "metadata": {},
     "output_type": "execute_result"
    }
   ],
   "source": [
    "var8"
   ]
  },
  {
   "cell_type": "code",
   "execution_count": 141,
   "id": "cross-thermal",
   "metadata": {},
   "outputs": [],
   "source": [
    "#split function in numpy\n",
    "#same as the stering and we done list perivously"
   ]
  },
  {
   "cell_type": "code",
   "execution_count": 142,
   "id": "sealed-rouge",
   "metadata": {},
   "outputs": [],
   "source": [
    "var9=np.arange(1,11)"
   ]
  },
  {
   "cell_type": "code",
   "execution_count": 144,
   "id": "rough-mother",
   "metadata": {},
   "outputs": [
    {
     "data": {
      "text/plain": [
       "array([ 1,  2,  3,  4,  5,  6,  7,  8,  9, 10])"
      ]
     },
     "execution_count": 144,
     "metadata": {},
     "output_type": "execute_result"
    }
   ],
   "source": [
    "var9"
   ]
  },
  {
   "cell_type": "code",
   "execution_count": 147,
   "id": "tender-former",
   "metadata": {},
   "outputs": [],
   "source": [
    "var10=np.split(var9,[3])"
   ]
  },
  {
   "cell_type": "code",
   "execution_count": 148,
   "id": "accurate-truth",
   "metadata": {},
   "outputs": [
    {
     "data": {
      "text/plain": [
       "[array([1, 2, 3]), array([ 4,  5,  6,  7,  8,  9, 10])]"
      ]
     },
     "execution_count": 148,
     "metadata": {},
     "output_type": "execute_result"
    }
   ],
   "source": [
    "var10"
   ]
  },
  {
   "cell_type": "code",
   "execution_count": 170,
   "id": "liquid-jackson",
   "metadata": {},
   "outputs": [],
   "source": [
    "#now we split this in to more array\n",
    "var11,var12,var13=np.split(var9,[3,5])"
   ]
  },
  {
   "cell_type": "code",
   "execution_count": 173,
   "id": "focused-citizen",
   "metadata": {},
   "outputs": [
    {
     "name": "stdout",
     "output_type": "stream",
     "text": [
      "[ 6  7  8  9 10]\n"
     ]
    }
   ],
   "source": [
    "print(var13)"
   ]
  },
  {
   "cell_type": "markdown",
   "id": "complex-experiment",
   "metadata": {},
   "source": [
    "## Arthmatic  UFunction in NumPy\n",
    "- np.add (+)\n",
    "- np.substract (-)\n",
    "- np.multiply (*)\n",
    "- np.division (/)\n",
    "- np.floor  (//)\n",
    "- np.mod (%)\n",
    "- np.power (**)\n",
    "- np.squrt (**)"
   ]
  },
  {
   "cell_type": "code",
   "execution_count": 174,
   "id": "czech-mongolia",
   "metadata": {},
   "outputs": [],
   "source": [
    "a1=np.array([11,99,55,42,-20,6,0,-13])"
   ]
  },
  {
   "cell_type": "code",
   "execution_count": 175,
   "id": "considerable-sheet",
   "metadata": {},
   "outputs": [
    {
     "data": {
      "text/plain": [
       "array([ 11,  99,  55,  42, -20,   6,   0, -13])"
      ]
     },
     "execution_count": 175,
     "metadata": {},
     "output_type": "execute_result"
    }
   ],
   "source": [
    "a1"
   ]
  },
  {
   "cell_type": "code",
   "execution_count": 176,
   "id": "capable-rebound",
   "metadata": {},
   "outputs": [],
   "source": [
    "a2=np.abs(a1) #absoulute function of numpy"
   ]
  },
  {
   "cell_type": "code",
   "execution_count": 177,
   "id": "funky-shape",
   "metadata": {},
   "outputs": [
    {
     "data": {
      "text/plain": [
       "array([11, 99, 55, 42, 20,  6,  0, 13])"
      ]
     },
     "execution_count": 177,
     "metadata": {},
     "output_type": "execute_result"
    }
   ],
   "source": [
    "a2"
   ]
  },
  {
   "cell_type": "code",
   "execution_count": 189,
   "id": "tutorial-ballet",
   "metadata": {},
   "outputs": [],
   "source": [
    "a3= np.arange(5)"
   ]
  },
  {
   "cell_type": "code",
   "execution_count": 191,
   "id": "artistic-queen",
   "metadata": {},
   "outputs": [
    {
     "name": "stdout",
     "output_type": "stream",
     "text": [
      "value is :  [55 56 57 58 59]\n",
      "value is :  [-10  -9  -8  -7  -6]\n",
      "value is :  [ 0 12 24 36 48]\n",
      "value is :  [0.         0.16666667 0.33333333 0.5        0.66666667]\n",
      "value is :  [0 0 0 0 0]\n",
      "value is :  [ 0  1  4  9 16]\n",
      "value is :  [0 1 2 3 4]\n"
     ]
    }
   ],
   "source": [
    "print(\"value is : \",a3+55)\n",
    "print(\"value is : \",a3-10)\n",
    "print(\"value is : \",a3*12)\n",
    "print(\"value is : \",a3/6)\n",
    "print(\"value is : \",a3//6)\n",
    "print(\"value is : \",a3**2)\n",
    "print(\"value is : \",a3%6)"
   ]
  },
  {
   "cell_type": "code",
   "execution_count": 202,
   "id": "enabling-integrity",
   "metadata": {},
   "outputs": [],
   "source": [
    "a4=np.arange(4).reshape(2,2)\n",
    "a5=np.arange(4).reshape(2,2)"
   ]
  },
  {
   "cell_type": "code",
   "execution_count": 203,
   "id": "consecutive-combat",
   "metadata": {},
   "outputs": [
    {
     "data": {
      "text/plain": [
       "array([[0, 2],\n",
       "       [4, 6]])"
      ]
     },
     "execution_count": 203,
     "metadata": {},
     "output_type": "execute_result"
    }
   ],
   "source": [
    "np.add(a4,a5)"
   ]
  },
  {
   "cell_type": "code",
   "execution_count": 205,
   "id": "ancient-program",
   "metadata": {},
   "outputs": [
    {
     "data": {
      "text/plain": [
       "1.5"
      ]
     },
     "execution_count": 205,
     "metadata": {},
     "output_type": "execute_result"
    }
   ],
   "source": [
    "np.average(a4)"
   ]
  },
  {
   "cell_type": "markdown",
   "id": "wrapped-modern",
   "metadata": {},
   "source": [
    "### Trigonometric function\n",
    "- sin thetha\n",
    " - cos\n",
    " - tan"
   ]
  },
  {
   "cell_type": "code",
   "execution_count": 209,
   "id": "nearby-elephant",
   "metadata": {},
   "outputs": [],
   "source": [
    "#not more than value of 1"
   ]
  },
  {
   "cell_type": "code",
   "execution_count": 223,
   "id": "excessive-fisher",
   "metadata": {},
   "outputs": [],
   "source": [
    "angle=np.linspace(0,np.pi,3) #most use ful function in data scientist using this"
   ]
  },
  {
   "cell_type": "code",
   "execution_count": 225,
   "id": "iraqi-attack",
   "metadata": {},
   "outputs": [
    {
     "data": {
      "text/plain": [
       "array([0.        , 1.57079633, 3.14159265])"
      ]
     },
     "execution_count": 225,
     "metadata": {},
     "output_type": "execute_result"
    }
   ],
   "source": [
    "angle"
   ]
  },
  {
   "cell_type": "code",
   "execution_count": 229,
   "id": "approximate-emergency",
   "metadata": {},
   "outputs": [
    {
     "data": {
      "text/plain": [
       "array([ 0.00000000e+00,  1.63312394e+16, -1.22464680e-16])"
      ]
     },
     "execution_count": 229,
     "metadata": {},
     "output_type": "execute_result"
    }
   ],
   "source": [
    "np.tan(angle)"
   ]
  },
  {
   "cell_type": "code",
   "execution_count": 230,
   "id": "imported-family",
   "metadata": {},
   "outputs": [],
   "source": [
    "value_of_ouput=[-1,0,1]"
   ]
  },
  {
   "cell_type": "code",
   "execution_count": 234,
   "id": "vocational-weapon",
   "metadata": {},
   "outputs": [
    {
     "data": {
      "text/plain": [
       "array([3.14159265, 1.57079633, 0.        ])"
      ]
     },
     "execution_count": 234,
     "metadata": {},
     "output_type": "execute_result"
    }
   ],
   "source": [
    "np.arccos(value_of_ouput)"
   ]
  },
  {
   "cell_type": "code",
   "execution_count": null,
   "id": "humanitarian-rhythm",
   "metadata": {},
   "outputs": [],
   "source": []
  }
 ],
 "metadata": {
  "kernelspec": {
   "display_name": "Python 3",
   "language": "python",
   "name": "python3"
  },
  "language_info": {
   "codemirror_mode": {
    "name": "ipython",
    "version": 3
   },
   "file_extension": ".py",
   "mimetype": "text/x-python",
   "name": "python",
   "nbconvert_exporter": "python",
   "pygments_lexer": "ipython3",
   "version": "3.9.1"
  }
 },
 "nbformat": 4,
 "nbformat_minor": 5
}
